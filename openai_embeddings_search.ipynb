{
 "cells": [
  {
   "cell_type": "markdown",
   "id": "55b58478",
   "metadata": {},
   "source": [
    "## Setup"
   ]
  },
  {
   "cell_type": "code",
   "execution_count": null,
   "id": "661cd7c3",
   "metadata": {},
   "outputs": [],
   "source": [
    "!pip install matplotlib\n",
    "!pip install openai\n",
    "!pip install plotly.express\n",
    "!pip install scikit-learn\n",
    "!pip install singlestoredb\n",
    "!pip install tabulate\n",
    "!pip install wget"
   ]
  },
  {
   "cell_type": "code",
   "execution_count": null,
   "id": "94b4c268",
   "metadata": {},
   "outputs": [],
   "source": [
    "import openai\n",
    "\n",
    "import pandas as pd\n",
    "import os\n",
    "import wget\n",
    "from ast import literal_eval"
   ]
  },
  {
   "cell_type": "code",
   "execution_count": null,
   "id": "bf463bfd",
   "metadata": {},
   "outputs": [],
   "source": [
    "EMBEDDING_MODEL = \"text-embedding-ada-002\""
   ]
  },
  {
   "cell_type": "markdown",
   "id": "c631965a",
   "metadata": {},
   "source": [
    "## Load Data"
   ]
  },
  {
   "cell_type": "code",
   "execution_count": null,
   "id": "b8c90330",
   "metadata": {},
   "outputs": [],
   "source": [
    "embeddings_url = 'https://cdn.openai.com/API/examples/data/vector_database_wikipedia_articles_embedded.zip'\n",
    "\n",
    "# The file is ~700 MB so this will take some time\n",
    "wget.download(embeddings_url)"
   ]
  },
  {
   "cell_type": "code",
   "execution_count": null,
   "id": "839e37e7",
   "metadata": {},
   "outputs": [],
   "source": [
    "import zipfile\n",
    "\n",
    "with zipfile.ZipFile(\"vector_database_wikipedia_articles_embedded.zip\", \"r\") as zip_ref:\n",
    "    zip_ref.extractall(\"data\")"
   ]
  },
  {
   "cell_type": "code",
   "execution_count": null,
   "id": "e440c99b",
   "metadata": {},
   "outputs": [],
   "source": [
    "%%time\n",
    "\n",
    "article_df = pd.read_csv(\n",
    "    \"data/vector_database_wikipedia_articles_embedded.csv\"\n",
    ")"
   ]
  },
  {
   "cell_type": "code",
   "execution_count": null,
   "id": "4576418c",
   "metadata": {},
   "outputs": [],
   "source": [
    "article_df.head()"
   ]
  },
  {
   "cell_type": "code",
   "execution_count": null,
   "id": "81ca4a72",
   "metadata": {},
   "outputs": [],
   "source": [
    "%%time\n",
    "\n",
    "# Read vectors from strings back into a list\n",
    "article_df['title_vector'] = article_df.title_vector.apply(literal_eval)\n",
    "article_df['content_vector'] = article_df.content_vector.apply(literal_eval)\n",
    "\n",
    "# Set vector_id to be a string\n",
    "article_df['vector_id'] = article_df['vector_id'].apply(str)"
   ]
  },
  {
   "cell_type": "code",
   "execution_count": null,
   "id": "724262ce",
   "metadata": {},
   "outputs": [],
   "source": [
    "article_df.info(show_counts=True)"
   ]
  },
  {
   "cell_type": "markdown",
   "id": "ca00c834",
   "metadata": {},
   "source": [
    "## SingleStoreDB"
   ]
  },
  {
   "cell_type": "markdown",
   "id": "74684ead",
   "metadata": {},
   "source": [
    "## Create Table"
   ]
  },
  {
   "cell_type": "code",
   "execution_count": null,
   "id": "ef07d877",
   "metadata": {},
   "outputs": [],
   "source": [
    "import singlestoredb as s2\n",
    "\n",
    "conn = s2.connect(\"root:<password>@<host>:3306/openai_demo\")\n",
    "\n",
    "cur = conn.cursor()"
   ]
  },
  {
   "cell_type": "code",
   "execution_count": null,
   "id": "b3bc1357",
   "metadata": {},
   "outputs": [],
   "source": [
    "stmt = \"\"\"\n",
    "    CREATE TABLE IF NOT EXISTS wikipedia (\n",
    "        id INT PRIMARY KEY,\n",
    "        url VARCHAR(255),\n",
    "        title VARCHAR(100),\n",
    "        text TEXT,\n",
    "        title_vector BLOB,\n",
    "        content_vector BLOB,\n",
    "        vector_id INT\n",
    "    )\n",
    "\"\"\"\n",
    "\n",
    "cur.execute(stmt)"
   ]
  },
  {
   "cell_type": "markdown",
   "id": "4ce0408d",
   "metadata": {},
   "source": [
    "## Populate Table"
   ]
  },
  {
   "cell_type": "code",
   "execution_count": null,
   "id": "45234f5b",
   "metadata": {},
   "outputs": [],
   "source": [
    "%%time\n",
    "\n",
    "# Prepare the statement\n",
    "stmt = \"\"\"\n",
    "    INSERT INTO wikipedia (\n",
    "        id,\n",
    "        url,\n",
    "        title,\n",
    "        text,\n",
    "        title_vector,\n",
    "        content_vector,\n",
    "        vector_id\n",
    "    )\n",
    "    VALUES (\n",
    "        %s,\n",
    "        %s,\n",
    "        %s,\n",
    "        %s,\n",
    "        JSON_ARRAY_PACK_F64(%s),\n",
    "        JSON_ARRAY_PACK_F64(%s),\n",
    "        %s\n",
    "    )\n",
    "\"\"\"\n",
    "\n",
    "# Convert the DataFrame to a NumPy record array\n",
    "record_arr = article_df.to_records(index=False)\n",
    "\n",
    "# Set the batch size\n",
    "batch_size = 1000\n",
    "\n",
    "# Iterate over the rows of the record array in batches\n",
    "for i in range(0, len(record_arr), batch_size):\n",
    "    batch = record_arr[i:i+batch_size]\n",
    "    values = [(\n",
    "        row[0],\n",
    "        row[1],\n",
    "        row[2],\n",
    "        row[3],\n",
    "        str(row[4]),\n",
    "        str(row[5]),\n",
    "        int(row[6])\n",
    "    ) for row in batch]\n",
    "    cur.executemany(stmt, values)"
   ]
  },
  {
   "cell_type": "markdown",
   "id": "d7c1f2c8",
   "metadata": {},
   "source": [
    "## Search Data"
   ]
  },
  {
   "cell_type": "code",
   "execution_count": null,
   "id": "fe27db35",
   "metadata": {},
   "outputs": [],
   "source": [
    "from openai.embeddings_utils import get_embedding"
   ]
  },
  {
   "cell_type": "code",
   "execution_count": null,
   "id": "aac171b4",
   "metadata": {},
   "outputs": [],
   "source": [
    "if os.getenv(\"OPENAI_API_KEY\") is not None:\n",
    "    openai.api_key = os.getenv(\"OPENAI_API_KEY\")\n",
    "    print (\"OPENAI_API_KEY is ready\")\n",
    "else:\n",
    "    print (\"OPENAI_API_KEY environment variable not found\")"
   ]
  },
  {
   "cell_type": "code",
   "execution_count": null,
   "id": "b43440e8",
   "metadata": {},
   "outputs": [],
   "source": [
    "from typing import Tuple, List\n",
    "\n",
    "def search_wikipedia(\n",
    "    query: str,\n",
    "    column1: str,\n",
    "    column2: str,\n",
    "    num_rows: int = 10\n",
    ") -> Tuple[List[str], List[float]]:\n",
    "    \"\"\"Searches Wikipedia for the given query and returns the top `num_rows` results.\n",
    "\n",
    "    Args:\n",
    "        query: The query to search for.\n",
    "        column1: The name of the column in the Wikipedia database to return for each result.\n",
    "        column2: The name of the column in the Wikipedia database to use as the score for each result.\n",
    "        num_rows: The number of results to return.\n",
    "\n",
    "    Returns:\n",
    "        A list of the top `num_rows` results.\n",
    "    \"\"\"\n",
    "\n",
    "    # Get the embedding of the query\n",
    "    embedding = get_embedding(query, EMBEDDING_MODEL)\n",
    "\n",
    "    # Create the SQL statement\n",
    "    stmt = \"\"\"\n",
    "        SELECT\n",
    "            {column1},\n",
    "            DOT_PRODUCT_F64(JSON_ARRAY_PACK_F64(%s), {column2}) AS score\n",
    "        FROM wikipedia\n",
    "        ORDER BY score DESC\n",
    "        LIMIT %s\n",
    "    \"\"\".format(column1=column1, column2=column2)\n",
    "\n",
    "    # Execute the SQL statement\n",
    "    cur.execute(stmt, [str(embedding), num_rows])\n",
    "\n",
    "    # Get the results\n",
    "    results = cur.fetchall()\n",
    "\n",
    "    # Separate the results into two lists\n",
    "    values = [row[0] for row in results]\n",
    "    scores = [row[1] for row in results]\n",
    "\n",
    "    # Return the results\n",
    "    return values, scores"
   ]
  },
  {
   "cell_type": "code",
   "execution_count": null,
   "id": "97e0aa98",
   "metadata": {},
   "outputs": [],
   "source": [
    "%%time\n",
    "\n",
    "values1, scores1 = search_wikipedia(\n",
    "    query = \"modern art in Europe\",\n",
    "    column1 = \"title\",\n",
    "    column2 = \"title_vector\",\n",
    "    num_rows = 5\n",
    ")"
   ]
  },
  {
   "cell_type": "code",
   "execution_count": null,
   "id": "d7ec56c6",
   "metadata": {},
   "outputs": [],
   "source": [
    "from tabulate import tabulate\n",
    "\n",
    "# Combine the values and scores lists into a list of tuples\n",
    "# Each tuple contains a value and its corresponding score\n",
    "table_data1 = list(zip(values1, scores1))\n",
    "\n",
    "# Add a rank column to the table data\n",
    "table_data1 = [(i + 1,) + data for i, data in enumerate(table_data1)]\n",
    "\n",
    "# Create the table\n",
    "table1 = tabulate(table_data1, headers=[\"Rank\", \"Title\", \"Score\"])\n",
    "\n",
    "# Print the table\n",
    "print(table1)"
   ]
  },
  {
   "cell_type": "code",
   "execution_count": null,
   "id": "4905f874",
   "metadata": {},
   "outputs": [],
   "source": [
    "%%time\n",
    "\n",
    "values2, scores2 = search_wikipedia(\n",
    "    query = \"Famous battles in Scottish history\",\n",
    "    column1 = \"text\",\n",
    "    column2 = \"content_vector\",\n",
    "    num_rows = 5\n",
    ")"
   ]
  },
  {
   "cell_type": "code",
   "execution_count": null,
   "id": "a062c3d1",
   "metadata": {},
   "outputs": [],
   "source": [
    "# Combine the values and scores lists into a list of tuples\n",
    "# Each tuple contains a value and its corresponding score\n",
    "table_data2 = list(zip([value[:50] for value in values2], scores2))\n",
    "\n",
    "# Add a rank column to the table data\n",
    "table_data2 = [(i + 1,) + data for i, data in enumerate(table_data2)]\n",
    "\n",
    "# Create the table\n",
    "table2 = tabulate(table_data2, headers=[\"Rank\", \"Text\", \"Score\"])\n",
    "\n",
    "# Print the table\n",
    "print(table2)"
   ]
  },
  {
   "cell_type": "markdown",
   "id": "f8b2649e",
   "metadata": {},
   "source": [
    "## License\n",
    "\n",
    "Small code sections in this notebook are from the [Using Vector Databases for Embeddings Search](https://github.com/openai/openai-cookbook/blob/main/examples/vector_databases/Using_vector_databases_for_embeddings_search.ipynb) notebook from OpenAI.\n",
    "\n",
    "MIT License\n",
    "\n",
    "Copyright (c) 2023 OpenAI\n",
    "\n",
    "Permission is hereby granted, free of charge, to any person obtaining a copy of this software and associated documentation files (the \"Software\"), to deal in the Software without restriction, including without limitation the rights to use, copy, modify, merge, publish, distribute, sublicense, and/or sell copies of the Software, and to permit persons to whom the Software is furnished to do so, subject to the following conditions:\n",
    "\n",
    "The above copyright notice and this permission notice shall be included in all copies or substantial portions of the Software.\n",
    "\n",
    "THE SOFTWARE IS PROVIDED \"AS IS\", WITHOUT WARRANTY OF ANY KIND, EXPRESS OR IMPLIED, INCLUDING BUT NOT LIMITED TO THE WARRANTIES OF MERCHANTABILITY, FITNESS FOR A PARTICULAR PURPOSE AND NONINFRINGEMENT. IN NO EVENT SHALL THE AUTHORS OR COPYRIGHT HOLDERS BE LIABLE FOR ANY CLAIM, DAMAGES OR OTHER LIABILITY, WHETHER IN AN ACTION OF CONTRACT, TORT OR OTHERWISE, ARISING FROM, OUT OF OR IN CONNECTION WITH THE SOFTWARE OR THE USE OR OTHER DEALINGS IN THE SOFTWARE."
   ]
  }
 ],
 "metadata": {
  "kernelspec": {
   "display_name": "Python 3 (ipykernel)",
   "language": "python",
   "name": "python3"
  },
  "language_info": {
   "codemirror_mode": {
    "name": "ipython",
    "version": 3
   },
   "file_extension": ".py",
   "mimetype": "text/x-python",
   "name": "python",
   "nbconvert_exporter": "python",
   "pygments_lexer": "ipython3",
   "version": "3.8.10"
  }
 },
 "nbformat": 4,
 "nbformat_minor": 5
}
